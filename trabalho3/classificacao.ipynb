{
 "cells": [
  {
   "cell_type": "code",
   "execution_count": 3,
   "metadata": {},
   "outputs": [],
   "source": [
    "import numpy as np\n",
    "import math\n",
    "from sklearn.base import BaseEstimator\n",
    "import matplotlib.pyplot as plt"
   ]
  },
  {
   "cell_type": "code",
   "execution_count": 4,
   "metadata": {},
   "outputs": [],
   "source": [
    "class LMSTrainer(BaseEstimator):\n",
    "    def __init__(self, delta, alpha, tolerancia, analitic=False):\n",
    "        self.analitic = analitic\n",
    "        self._trained = False\n",
    "        self.analitic = analitic\n",
    "        self._trained = False\n",
    "        self._delta = delta  # vetor de parametros\n",
    "        self._alpha = alpha  # taxa de convergencias\n",
    "        self._tolerancia = tolerancia  # erro maximo\n",
    "        self._custoAnt = 0.0  # quarda o custo da iteracao anterior\n",
    "        self._max = 999999  # quantidade maxima de iteracoes\n",
    "        self._it = 0  # iteracao atual\n",
    "        self._epslon = 0.000001 # evita o valor zero dentro do log\n",
    "\n",
    "    def fit(self, X, y=None):\n",
    "        if self.analitic:\n",
    "            # TODO: FAZER POR MATRIZES\n",
    "            pass\n",
    "        else:\n",
    "            Xi = np.insert(X, 0, values=1, axis=1)\n",
    "            self.grad(Xi, y)\n",
    "        self._trained = True\n",
    "\n",
    "        return self\n",
    "\n",
    "    def predict(self, X, y=None):\n",
    "        if not self._trained:\n",
    "            raise RuntimeError(\"You must train classifer before predicting data!\")\n",
    "        else:\n",
    "            # Xi = np.insert(X, 0, values=1, axis=1)\n",
    "            Xi = [1] + X\n",
    "            return self.h(Xi)\n",
    "\n",
    "    def h(self, x):\n",
    "        #if type(x) is int:\n",
    "        #   x = [1, x]\n",
    "        return 1. / (1. + math.e ** -(np.dot(self._delta, x)))\n",
    "        # if type(x) is int:\n",
    "        #    return self.funcAfim(x)\n",
    "        # else:\n",
    "        #    return np.dot(x, self._delta)\n",
    "\n",
    "    def custo(self, X, y, n):\n",
    "        error = 0.0\n",
    "        for i, x in enumerate(X):\n",
    "            error += (-y[i] * math.log(self.h(x)+self._epslon)) - ((1 - y[i]) * math.log(1 - self.h(x)+self._epslon))  # (self.h(x) - y[i])**2\n",
    "        return error / n\n",
    "\n",
    "    def convergiu(self, X, y, n):\n",
    "        self._it += 1\n",
    "        custo_atual = self.custo(X, y, n)\n",
    "        flag1 = self._it >= self._max\n",
    "        flag2 = np.abs(custo_atual - self._custoAnt) <= self._tolerancia\n",
    "        self._custoAnt = custo_atual\n",
    "\n",
    "        return flag1 or flag2\n",
    "\n",
    "    def grad(self, X, y):\n",
    "        m = len(y)\n",
    "        while not self.convergiu(X, y, m):\n",
    "            tmp = []\n",
    "            qtd = len(self._delta)\n",
    "            for i in range(qtd):\n",
    "                tmp.append(self._delta[i] - self._alpha * self.sumDiff(X, y, m, i))\n",
    "            self._delta = np.copy(tmp)\n",
    "        if self._it >= self._max:\n",
    "            print(\"número máximo de iterações alcançado.\")\n",
    "\n",
    "    def sumDiff(self, X, y, n, j):\n",
    "        sum = 0.0\n",
    "        for i, x in enumerate(X):\n",
    "            sum += ((self.h(x) - y[i]) * x[j])\n",
    "        return sum / n\n",
    "\n",
    "    def funcAfim(self, x):\n",
    "        return self._delta[0] + self._delta[1] * x\n",
    "\n",
    "    def getDelta(self):\n",
    "        return self._delta\n"
   ]
  },
  {
   "cell_type": "code",
   "execution_count": 5,
   "metadata": {},
   "outputs": [],
   "source": [
    "class DrawingGraph:\n",
    "    Id = 1\n",
    "\n",
    "    @staticmethod\n",
    "    def draw_point(x, y):\n",
    "        plt.scatter(x, y, s=10, c='r' )\n",
    "\n",
    "    @staticmethod\n",
    "    def draw(x, f, title): # valores x e função f\n",
    "        plt.figure(DrawingGraph.Id)\n",
    "        DrawingGraph.Id += 1\n",
    "        plt.plot(x, [f(a) for a in x])\n",
    "        plt.title(title)\n",
    "        # plt.show()\n",
    "\n",
    "\n",
    "    def draw_point2(x, y):\n",
    "        plt.scatter(x, y, s=10, c='b')\n",
    "        plt.show()\n",
    "\n",
    "    @staticmethod\n",
    "    def draw_classification(x, y, title):\n",
    "        plt.figure(DrawingGraph.Id)\n",
    "        plt.title(title)\n",
    "        DrawingGraph.Id += 1\n",
    "        temp0y = []\n",
    "        temp0x = []\n",
    "        temp1y = []\n",
    "        temp1x = []\n",
    "        for i, yi in enumerate(y):\n",
    "            if yi <= 0.5:\n",
    "                temp0y += [yi]\n",
    "                temp0x += [x[i]]\n",
    "            else:\n",
    "                temp1y += [yi]\n",
    "                temp1x += [x[i]]\n",
    "        plt.axis((min(x)[0]-1, max(x)[0]+1, -0.5, 1.5))\n",
    "        plt.scatter(temp0x, temp0y, s=50, c='r')\n",
    "        plt.scatter(temp1x, temp1y, s=50, c='b')\n",
    "        #plt.show()\n",
    "\n",
    "    @staticmethod\n",
    "    def show():\n",
    "        plt.show()"
   ]
  },
  {
   "cell_type": "code",
   "execution_count": 8,
   "metadata": {},
   "outputs": [
    {
     "name": "stdout",
     "output_type": "stream",
     "text": [
      "deltas:  [1, 1]\n",
      "deltas:  [-16.68721431   3.05564592]\n"
     ]
    },
    {
     "data": {
      "image/png": "[encoded data removed]",
      "text/plain": [
       "<Figure size 432x288 with 1 Axes>"
      ]
     },
     "metadata": {
      "needs_background": "light"
     },
     "output_type": "display_data"
    },
    {
     "data": {
      "image/png": "[encoded data removed]",
      "text/plain": [
       "<Figure size 432x288 with 1 Axes>"
      ]
     },
     "metadata": {
      "needs_background": "light"
     },
     "output_type": "display_data"
    }
   ],
   "source": [
    "x_train = [[0], [1], [2], [3], [4], [5], [6], [7], [8], [9], [10], [11]]\n",
    "\n",
    "y_train = [0,0,0,0,0,0,1,1,1,1,1,1]\n",
    "\n",
    "x_teste =[[-1],[1.5],[8.4],[4.5], [5.5],[4.7],[6.5],[5.2]]\n",
    "\n",
    "trainer = LMSTrainer([1,1], 0.1, 0.000001)\n",
    "\n",
    "\n",
    "print(\"deltas: \", trainer.getDelta())\n",
    "\n",
    "pred = trainer.fit(x_train, y_train)\n",
    "\n",
    "DrawingGraph.draw_classification(x_train, y_train, \"gabarito\")\n",
    "print(\"deltas: \", trainer.getDelta())\n",
    "\n",
    "resposta = [pred.predict(x) for x in x_teste]\n",
    "# print(\"resposta = \", resposta)\n",
    "DrawingGraph.draw_classification(x_teste, resposta, \"predicao\")\n",
    "\n",
    "DrawingGraph.show()"
   ]
  },
  {
   "cell_type": "code",
   "execution_count": null,
   "metadata": {},
   "outputs": [],
   "source": []
  }
 ],
 "metadata": {
  "kernelspec": {
   "display_name": "Python 3",
   "language": "python",
   "name": "python3"
  },
  "language_info": {
   "codemirror_mode": {
    "name": "ipython",
    "version": 3
   },
   "file_extension": ".py",
   "mimetype": "text/x-python",
   "name": "python",
   "nbconvert_exporter": "python",
   "pygments_lexer": "ipython3",
   "version": "3.7.3"
  }
 },
 "nbformat": 4,
 "nbformat_minor": 2
}
