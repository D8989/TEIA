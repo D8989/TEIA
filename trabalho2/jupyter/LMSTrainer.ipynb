{
 "cells": [
  {
   "cell_type": "code",
   "execution_count": 1,
   "metadata": {},
   "outputs": [],
   "source": [
    "import numpy as np\n",
    "from sklearn.base import BaseEstimator"
   ]
  },
  {
   "cell_type": "code",
   "execution_count": 42,
   "metadata": {},
   "outputs": [],
   "source": [
    "class LMSTrainer(BaseEstimator):\n",
    "    def __init__(self, analitic=False):\n",
    "        self.analitic = analitic\n",
    "        self.__trained = False\n",
    "        self.__delta1 = 1\n",
    "        self.__delta2 = 1\n",
    "        self.__error = 0.001\n",
    "        self.__taxa = 1.2\n",
    "    \n",
    "    def fit(self, X, y):\n",
    "        \n",
    "        X = np.matrix(X)\n",
    "        y = np.matrix(y)\n",
    "        \n",
    "        param = []\n",
    "        \n",
    "        if self.analitic:\n",
    "            if( self._is_invertible(X)):\n",
    "                param = self._analitcForm(X,y)\n",
    "            else:\n",
    "                print(\"matriz não é inversivel\")\n",
    "        else:\n",
    "            pass\n",
    "        return param\n",
    "    \n",
    "    def predict():\n",
    "        pass\n",
    "    \n",
    "    \n",
    "    \n",
    "    #def grad(self, X, y):\n",
    "    #    while( not self.convergiu(X,y, len(y)) ):\n",
    "    #        temp1 = self.__delta1 - self.__taxa*sumError(X[0], y)\n",
    "    #        temp2 = self.__delta2 - self.__taxa*sumError(X[0], y)\n",
    "        \n",
    "    def h(self, x):\n",
    "        return self.__delta1*x + self.__delta2\n",
    "    \n",
    "    def sumError(self, x, y):\n",
    "        sum = .0\n",
    "        m = len(y)\n",
    "        for i, xi in enumarate(x):\n",
    "            sum += (self.h(xi) - y[i])\n",
    "        return sum/m\n",
    "    \n",
    "    # X é uma matriz(list of lists)\n",
    "    # y é um vetor\n",
    "    def custo(self, X,y,n):\n",
    "        error = .0\n",
    "        for x in enumarate(X):\n",
    "            error += self.sumError(x, y)**2\n",
    "        return error/(2*n) \n",
    "    \n",
    "    def convergiu(self, X,y,n):\n",
    "        return custo(X,y,n) < self.__error\n",
    "        \n",
    "    \n",
    "    # recebe uma matriz X e um vetor(gabarito) y\n",
    "    # retorna um vetor de parâmetros\n",
    "    def _analitcForm(self, X ,y):\n",
    "        m = len(y)\n",
    "        x1 = np.dot(X.T, X).getI() # (X^t * X)^(-1)\n",
    "        x2 = np.dot(x1, X.T)  # x1 * X^t\n",
    "        x3 = np.dot(x2, y.T) # x2 * y\n",
    "        return x3*(2/m)\n",
    "\n",
    "    \n",
    "    # retorna true se a matriz X é inversível (det(A) = 0)\n",
    "    # Não Funciona!!!\n",
    "    def _inversivel(self, X):\n",
    "        return np.linalg.det(X) == 0\n",
    "    \n",
    "    # codigo do stack overflow\n",
    "    # https://stackoverflow.com/questions/17931613/how-to-decide-a-whether-a-matrix-is-singular-in-python-numpy\n",
    "    def _is_invertible(self, a):\n",
    "        return a.shape[0] == a.shape[1] and np.linalg.matrix_rank(a) == a.shape[0]\n",
    "\n",
    "    \n",
    "    \n",
    "        \n",
    "    \n",
    "    "
   ]
  },
  {
   "cell_type": "code",
   "execution_count": 43,
   "metadata": {},
   "outputs": [
    {
     "name": "stdout",
     "output_type": "stream",
     "text": [
      "matriz não é inversivel\n",
      "[]\n"
     ]
    }
   ],
   "source": [
    "X_train = [[7],[9],[3]]\n",
    "y_train = [1,2,3]\n",
    "X_test  = [[1,2]]\n",
    "y_test  = [1]\n",
    "trainer = LMSTrainer(True)\n",
    "predictor = trainer.fit(X_train, y_train)\n",
    "print(predictor)"
   ]
  },
  {
   "cell_type": "code",
   "execution_count": null,
   "metadata": {},
   "outputs": [],
   "source": []
  }
 ],
 "metadata": {
  "kernelspec": {
   "display_name": "Python 3",
   "language": "python",
   "name": "python3"
  },
  "language_info": {
   "codemirror_mode": {
    "name": "ipython",
    "version": 3
   },
   "file_extension": ".py",
   "mimetype": "text/x-python",
   "name": "python",
   "nbconvert_exporter": "python",
   "pygments_lexer": "ipython3",
   "version": "3.6.5"
  }
 },
 "nbformat": 4,
 "nbformat_minor": 2
}
