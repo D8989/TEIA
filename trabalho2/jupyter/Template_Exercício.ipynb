{
 "cells": [
  {
   "cell_type": "code",
   "execution_count": 1,
   "metadata": {},
   "outputs": [],
   "source": [
    "import numpy as np"
   ]
  },
  {
   "cell_type": "code",
   "execution_count": 3,
   "metadata": {},
   "outputs": [],
   "source": [
    "from sklearn.base import BaseEstimator\n",
    "\n",
    "class LMSTrainer(BaseEstimator):\n",
    "    \n",
    "    \n",
    "    def __init__(self, analitic=False):\n",
    "            \n",
    "            self.analitic = analitic\n",
    "            self._trained = False\n",
    "            \n",
    "    def fit(self, X, y=None):\n",
    "        \n",
    "        if self.analitic:\n",
    "            \n",
    "          # TODO: FAZER POR MATRIZES\n",
    "          pass\n",
    "        else:\n",
    "           \n",
    "          # TODO: FAZERPELO GRADIENTE DESCENDETE \n",
    "          pass\n",
    "    \n",
    "        self._trained = True\n",
    "        \n",
    "        return self\n",
    "        \n",
    "    def predict(self, X, y=None):\n",
    "        \n",
    "        if not self._trained:\n",
    "           raise RuntimeError(\"You must train classifer before predicting data!\")\n",
    "        \n",
    "        return 1# resultado\n",
    "    \n",
    "    def h(self, x):\n",
    "        return np.dot(x, self.__0)\n",
    "    \n",
    "    def custo(self, X,y,n):\n",
    "        error = .0\n",
    "        for i, x in enumarate(X):\n",
    "            error += (self.h(x) - y[i])**2\n",
    "        return error/(2*n) \n",
    "            \n",
    "    "
   ]
  },
  {
   "cell_type": "code",
   "execution_count": 6,
   "metadata": {},
   "outputs": [
    {
     "data": {
      "text/plain": [
       "1"
      ]
     },
     "execution_count": 6,
     "metadata": {},
     "output_type": "execute_result"
    }
   ],
   "source": [
    "X_train = [[1,2],[1,2]]\n",
    "y_train = [1,1]\n",
    "X_test  = [[1,2]]\n",
    "y_test  = [1]\n",
    "trainer = LMSTrainer()\n",
    "predictor = trainer.fit(X_train)\n",
    "predictor.predict(X_test)"
   ]
  },
  {
   "cell_type": "code",
   "execution_count": null,
   "metadata": {},
   "outputs": [],
   "source": []
  }
 ],
 "metadata": {
  "kernelspec": {
   "display_name": "Python 3",
   "language": "python",
   "name": "python3"
  },
  "language_info": {
   "codemirror_mode": {
    "name": "ipython",
    "version": 3
   },
   "file_extension": ".py",
   "mimetype": "text/x-python",
   "name": "python",
   "nbconvert_exporter": "python",
   "pygments_lexer": "ipython3",
   "version": "3.6.5"
  }
 },
 "nbformat": 4,
 "nbformat_minor": 2
}
