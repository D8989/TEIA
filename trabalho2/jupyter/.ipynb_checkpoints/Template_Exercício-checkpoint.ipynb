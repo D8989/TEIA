{
 "cells": [
  {
   "cell_type": "code",
   "execution_count": 1,
   "metadata": {},
   "outputs": [],
   "source": [
    "import numpy as np"
   ]
  },
  {
   "cell_type": "code",
   "execution_count": 7,
   "metadata": {},
   "outputs": [
    {
     "ename": "SyntaxError",
     "evalue": "invalid syntax (<ipython-input-7-6e0e0a94a170>, line 58)",
     "output_type": "error",
     "traceback": [
      "\u001b[1;36m  File \u001b[1;32m\"<ipython-input-7-6e0e0a94a170>\"\u001b[1;36m, line \u001b[1;32m58\u001b[0m\n\u001b[1;33m    self._delta = tmp\u001b[0m\n\u001b[1;37m       ^\u001b[0m\n\u001b[1;31mSyntaxError\u001b[0m\u001b[1;31m:\u001b[0m invalid syntax\n"
     ]
    }
   ],
   "source": [
    "from sklearn.base import BaseEstimator\n",
    "\n",
    "class LMSTrainer(BaseEstimator):\n",
    "    \n",
    "    \n",
    "    def __init__(self, delta, alpha, tolerancia, analitic=False):\n",
    "            \n",
    "            self.analitic = analitic\n",
    "            self._trained = False\n",
    "            self._delta = delta # vetor de parametros\n",
    "            self._alpha = alpha # taxa de convergencias\n",
    "            self._tolerancia = tolerancia # erro maximo\n",
    "            self._custoAnt = .0 # quarda o custo da iteracao anterior\n",
    "            self._max = 9999999 # quantidade maxima de iteracoes\n",
    "            \n",
    "            \n",
    "    def fit(self, X, y=None):\n",
    "        \n",
    "        if self.analitic:\n",
    "            \n",
    "            # TODO: FAZER POR MATRIZES\n",
    "            pass\n",
    "        else:\n",
    "            self.grad(X, y)\n",
    "    \n",
    "        self._trained = True\n",
    "        \n",
    "        return self\n",
    "        \n",
    "    def predict(self, X, y=None):\n",
    "        \n",
    "        if not self._trained:\n",
    "           raise RuntimeError(\"You must train classifer before predicting data!\")\n",
    "        \n",
    "        return 1\n",
    "    \n",
    "    def h(self, x):\n",
    "        return np.dot(x, self._delta)\n",
    "    \n",
    "    def custo(self, X,y,n):\n",
    "        error = 0.\n",
    "        for i, x in enumarate(X):\n",
    "            error += (self.h(x) - y[i])**2\n",
    "        return error/(2*n) \n",
    "    \n",
    "    def convergiu(self, X, y, n):\n",
    "        return np.abs(self.custo(X, y, n) - self._custoAnt) <= self._tolerancia\n",
    "    \n",
    "    def grad(self, X, y):\n",
    "        if len(X) == len(y):\n",
    "            m = len(y)\n",
    "            \n",
    "            while not convergiu(X, y, m):\n",
    "                tmp = []\n",
    "                qtd = len(self._delta)\n",
    "                for i in range(qtd):\n",
    "                    tmp.append( self._delta[i] - self._alpha * self.sumDiff(X, y, m)\n",
    "                self._delta = tmp.copy()   \n",
    "        else:\n",
    "            print(\"X e y possui quantidade de elementos diferentes\")\n",
    "\n",
    "                               \n",
    "    def sumDiff(self, X, y, n):\n",
    "        sum = 0.\n",
    "        for i, x in enumarate(X):\n",
    "            sum += (self.h(x) - y[i]) * x[i]\n",
    "        return sum/n\n",
    "                               \n",
    "                               "
   ]
  },
  {
   "cell_type": "code",
   "execution_count": 6,
   "metadata": {},
   "outputs": [
    {
     "data": {
      "text/plain": [
       "1"
      ]
     },
     "execution_count": 6,
     "metadata": {},
     "output_type": "execute_result"
    }
   ],
   "source": [
    "X_train = [[1,2],[1,2]]\n",
    "y_train = [1,1]\n",
    "X_test  = [[1,2]]\n",
    "y_test  = [1]\n",
    "trainer = LMSTrainer()\n",
    "predictor = trainer.fit(X_train)\n",
    "predictor.predict(X_test)"
   ]
  },
  {
   "cell_type": "code",
   "execution_count": null,
   "metadata": {},
   "outputs": [],
   "source": []
  }
 ],
 "metadata": {
  "kernelspec": {
   "display_name": "Python 3",
   "language": "python",
   "name": "python3"
  },
  "language_info": {
   "codemirror_mode": {
    "name": "ipython",
    "version": 3
   },
   "file_extension": ".py",
   "mimetype": "text/x-python",
   "name": "python",
   "nbconvert_exporter": "python",
   "pygments_lexer": "ipython3",
   "version": "3.7.3"
  }
 },
 "nbformat": 4,
 "nbformat_minor": 2
}
