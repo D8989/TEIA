{
 "cells": [
  {
   "cell_type": "code",
   "execution_count": 62,
   "metadata": {},
   "outputs": [],
   "source": [
    "import numpy as np\n",
    "from sklearn.base import BaseEstimator\n",
    "import matplotlib.pyplot as plt"
   ]
  },
  {
   "cell_type": "code",
   "execution_count": 118,
   "metadata": {},
   "outputs": [],
   "source": [
    "class LMSTrainer(BaseEstimator):\n",
    "    \n",
    "    def __init__(self, delta, alpha, tolerancia, analitic=False):\n",
    "        self.analitic = analitic\n",
    "        self._trained = False\n",
    "        self.analitic = analitic\n",
    "        self._trained = False\n",
    "        self._delta = delta # vetor de parametros\n",
    "        self._alpha = alpha # taxa de convergencias\n",
    "        self._tolerancia = tolerancia # erro maximo\n",
    "        self._custoAnt = 0.0 # quarda o custo da iteracao anterior\n",
    "        self._max = 1000 # quantidade maxima de iteracoes\n",
    "        self._it = 0 # iteracao atual\n",
    "            \n",
    "    def fit(self, X, y=None):\n",
    "        \n",
    "        if self.analitic:\n",
    "            \n",
    "          # TODO: FAZER POR MATRIZES\n",
    "          pass\n",
    "        else:\n",
    "            self.grad(X,y)\n",
    "        self._trained = True\n",
    "        \n",
    "        return self\n",
    "        \n",
    "    def predict(self, X, y=None):\n",
    "        \n",
    "        if not self._trained:\n",
    "           raise RuntimeError(\"You must train classifer before predicting data!\")\n",
    "        \n",
    "        return 1# resultado\n",
    "    \n",
    "    def h(self, x):\n",
    "        return np.dot(x, self._delta)\n",
    "    \n",
    "    def custo(self, X, y, n):\n",
    "        error = 0.0\n",
    "        for i, x in enumerate(X):\n",
    "            error += (self.h(x) - y[i])**2\n",
    "        return error/(2.0*n)\n",
    "        \n",
    "    def convergiu(self, X, y, n):\n",
    "        self._it += 1\n",
    "        custoAtual = self.custo(X, y, n)\n",
    "        flag1 = self._it >= self._max\n",
    "        flag2 = np.abs(custoAtual - self._custoAnt) <= self._tolerancia\n",
    "        self._custoAnt = custoAtual\n",
    "        print(\"TESTE: \", custoAtual)\n",
    "        return flag1 or flag2\n",
    "    \n",
    "    def grad(self, X, y):\n",
    "        m = len(y)\n",
    "        \n",
    "        while not self.convergiu(X, y, m):\n",
    "            tmp = []\n",
    "            qtd = len(self._delta)\n",
    "            for i in range(qtd):\n",
    "                tmp.append( self._delta[i] - self._alpha * self.sumDiff(X, y, m))\n",
    "            self._delta = np.copy(tmp)\n",
    "        if self._it >= self._max:\n",
    "            print(\"número máximo de iterações alcançado.\")\n",
    "    \n",
    "    def sumDiff(self, X, y, n):\n",
    "        sum = 0.0\n",
    "        for i, x in enumerate(X):\n",
    "            sum += (self.h(x) - y[i]) * x[i]\n",
    "        return sum/n"
   ]
  },
  {
   "cell_type": "code",
   "execution_count": 105,
   "metadata": {},
   "outputs": [],
   "source": [
    "class DrawingGraph:\n",
    "    \n",
    "    @staticmethod\n",
    "    def drawPoint(x, y):\n",
    "        plt.scatter(x, y, s=10, c='r' )\n",
    "    \n",
    "    @staticmethod\n",
    "    def draw(x, f, title): # valores x e função f\n",
    "        plt.plot(x, f)\n",
    "        plt.title(title)\n",
    "        plt.show()"
   ]
  },
  {
   "cell_type": "code",
   "execution_count": 119,
   "metadata": {
    "scrolled": true
   },
   "outputs": [
    {
     "name": "stdout",
     "output_type": "stream",
     "text": [
      "número máximo de iterações alcançado.\n"
     ]
    },
    {
     "name": "stderr",
     "output_type": "stream",
     "text": [
      "c:\\users\\daniel\\appdata\\local\\programs\\python\\python37\\lib\\site-packages\\ipykernel_launcher.py:40: RuntimeWarning: overflow encountered in double_scalars\n",
      "c:\\users\\daniel\\appdata\\local\\programs\\python\\python37\\lib\\site-packages\\ipykernel_launcher.py:47: RuntimeWarning: invalid value encountered in double_scalars\n",
      "c:\\users\\daniel\\appdata\\local\\programs\\python\\python37\\lib\\site-packages\\ipykernel_launcher.py:66: RuntimeWarning: overflow encountered in double_scalars\n",
      "c:\\users\\daniel\\appdata\\local\\programs\\python\\python37\\lib\\site-packages\\ipykernel_launcher.py:58: RuntimeWarning: invalid value encountered in double_scalars\n"
     ]
    }
   ],
   "source": [
    "\n",
    "x_train = [[1,2],[1,3]]\n",
    "y_train = [2,3]\n",
    "\n",
    "trainer = LMSTrainer([1,1], 0.5, 0.01)\n",
    "predict = trainer.fit(x_train, y_train)"
   ]
  },
  {
   "cell_type": "code",
   "execution_count": null,
   "metadata": {},
   "outputs": [],
   "source": []
  }
 ],
 "metadata": {
  "kernelspec": {
   "display_name": "Python 3",
   "language": "python",
   "name": "python3"
  },
  "language_info": {
   "codemirror_mode": {
    "name": "ipython",
    "version": 3
   },
   "file_extension": ".py",
   "mimetype": "text/x-python",
   "name": "python",
   "nbconvert_exporter": "python",
   "pygments_lexer": "ipython3",
   "version": "3.7.3"
  }
 },
 "nbformat": 4,
 "nbformat_minor": 2
}
