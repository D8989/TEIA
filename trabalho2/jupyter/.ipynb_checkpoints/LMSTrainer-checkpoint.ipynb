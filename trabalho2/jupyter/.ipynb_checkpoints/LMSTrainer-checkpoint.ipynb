{
 "cells": [
  {
   "cell_type": "code",
   "execution_count": 2,
   "metadata": {},
   "outputs": [],
   "source": [
    "import numpy as np\n",
    "from sklearn.base import BaseEstimator\n",
    "import matplotlib.pyplot as plt"
   ]
  },
  {
   "cell_type": "code",
   "execution_count": 11,
   "metadata": {},
   "outputs": [],
   "source": [
    "class LMSTrainer(BaseEstimator):\n",
    "    \n",
    "    def __init__(self, delta, alpha, tolerancia, analitic=False):\n",
    "        self.analitic = analitic\n",
    "        self._trained = False\n",
    "        self.analitic = analitic\n",
    "        self._trained = False\n",
    "        self._delta = delta # vetor de parametros\n",
    "        self._alpha = alpha # taxa de convergencias\n",
    "        self._tolerancia = tolerancia # erro maximo\n",
    "        self._custoAnt = 0.0 # quarda o custo da iteracao anterior\n",
    "        self._max = 5000 # quantidade maxima de iteracoes\n",
    "        self._it = 0 # iteracao atual\n",
    "            \n",
    "    def fit(self, X, y=None):\n",
    "        \n",
    "        if self.analitic:\n",
    "            \n",
    "          # TODO: FAZER POR MATRIZES\n",
    "          pass\n",
    "        else:\n",
    "            self.grad(X,y)\n",
    "        self._trained = True\n",
    "        \n",
    "        return self\n",
    "        \n",
    "    def predict(self, X, y=None):\n",
    "        \n",
    "        if not self._trained:\n",
    "           raise RuntimeError(\"You must train classifer before predicting data!\")\n",
    "        else:\n",
    "            return self.h(X)\n",
    "    \n",
    "    def h(self, x):\n",
    "        if type(x) is int:\n",
    "            return self.funcAfim(x)\n",
    "        else:\n",
    "            return np.dot(x, self._delta)\n",
    "    \n",
    "    def custo(self, X, y, n):\n",
    "        error = 0.0\n",
    "        for i, x in enumerate(X):\n",
    "            error += (self.h(x) - y[i])**2\n",
    "        return error/(2.0*n)\n",
    "        \n",
    "    def convergiu(self, X, y, n):\n",
    "        self._it += 1\n",
    "        custoAtual = self.custo(X, y, n)\n",
    "        flag1 = self._it >= self._max\n",
    "        flag2 = np.abs(custoAtual - self._custoAnt) <= self._tolerancia\n",
    "        self._custoAnt = custoAtual\n",
    "        return flag1 or flag2\n",
    "    \n",
    "    def grad(self, X, y):\n",
    "        m = len(y)\n",
    "        while not self.convergiu(X, y, m):\n",
    "            tmp = []\n",
    "            qtd = len(self._delta)\n",
    "            for i in range(qtd):\n",
    "                tmp.append( self._delta[i] - self._alpha * self.sumDiff(X, y, m, i))\n",
    "            self._delta = np.copy(tmp)\n",
    "        if self._it >= self._max:\n",
    "            print(\"número máximo de iterações alcançado.\")\n",
    "    \n",
    "    def sumDiff(self, X, y, n, j):\n",
    "        sum = 0.0\n",
    "        for i, x in enumerate(X):\n",
    "            sum += ((self.h(x) - y[i]) * x[j])\n",
    "        return sum/n\n",
    "    \n",
    "    def funcAfim(self, x):\n",
    "        return self._delta[0] + self._delta[1] * x\n",
    "    \n",
    "    def getDelta(self):\n",
    "        return self._delta"
   ]
  },
  {
   "cell_type": "code",
   "execution_count": 4,
   "metadata": {},
   "outputs": [],
   "source": [
    "class DrawingGraph:\n",
    "    \n",
    "    @staticmethod\n",
    "    def drawPoint(x, y):\n",
    "        plt.scatter(x, y, s=10, c='r' )\n",
    "    \n",
    "    @staticmethod\n",
    "    def draw(x, f, title): # valores x e função f\n",
    "        plt.plot(x, [f(a) for a in x])\n",
    "        plt.title(title)\n",
    "        plt.show()\n",
    "\n",
    "    @staticmethod\n",
    "    def drawPoint2(x, y):\n",
    "        plt.scatter(x, y, s=10, c='b' )\n",
    "        plt.show()"
   ]
  },
  {
   "cell_type": "code",
   "execution_count": 13,
   "metadata": {
    "scrolled": true
   },
   "outputs": [
    {
     "data": {
      "image/png": "[encoded data removed]",
      "text/plain": [
       "<Figure size 432x288 with 1 Axes>"
      ]
     },
     "metadata": {
      "needs_background": "light"
     },
     "output_type": "display_data"
    },
    {
     "name": "stdout",
     "output_type": "stream",
     "text": [
      "deltas:  [1, 1]\n"
     ]
    },
    {
     "data": {
      "image/png": "[encoded data removed]",
      "text/plain": [
       "<Figure size 432x288 with 1 Axes>"
      ]
     },
     "metadata": {
      "needs_background": "light"
     },
     "output_type": "display_data"
    },
    {
     "name": "stdout",
     "output_type": "stream",
     "text": [
      "deltas:  [ 6.81826915 -1.4952943 ]\n",
      "-0.6582023648266926\n"
     ]
    }
   ],
   "source": [
    "\n",
    "x_train = np.array([[1,2],[1,3],[1,4]])\n",
    "y_train = np.array([4,2,1])\n",
    "\n",
    "teste = np.array([x[1] for x in x_train])\n",
    "trainer = LMSTrainer([1,1], 0.1, 0.0000001)\n",
    "\n",
    "DrawingGraph.drawPoint(teste, y_train)\n",
    "DrawingGraph.draw(teste, trainer.funcAfim, \"hipotese\")\n",
    "print(\"deltas: \", trainer.getDelta())\n",
    "\n",
    "pred = trainer.fit(x_train, y_train)\n",
    "\n",
    "DrawingGraph.drawPoint(teste, y_train)\n",
    "DrawingGraph.draw(teste, trainer.funcAfim, \"resltado\")\n",
    "print(\"deltas: \", trainer.getDelta())\n",
    "\n",
    "print(pred.predict(5))"
   ]
  },
  {
   "cell_type": "code",
   "execution_count": null,
   "metadata": {},
   "outputs": [],
   "source": []
  }
 ],
 "metadata": {
  "kernelspec": {
   "display_name": "Python 3",
   "language": "python",
   "name": "python3"
  },
  "language_info": {
   "codemirror_mode": {
    "name": "ipython",
    "version": 3
   },
   "file_extension": ".py",
   "mimetype": "text/x-python",
   "name": "python",
   "nbconvert_exporter": "python",
   "pygments_lexer": "ipython3",
   "version": "3.7.3"
  }
 },
 "nbformat": 4,
 "nbformat_minor": 2
}
