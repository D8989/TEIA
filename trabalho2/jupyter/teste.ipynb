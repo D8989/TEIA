{
 "cells": [
  {
   "cell_type": "code",
   "execution_count": 4,
   "metadata": {},
   "outputs": [],
   "source": [
    "import matplotlib.pyplot as plt"
   ]
  },
  {
   "cell_type": "code",
   "execution_count": 9,
   "metadata": {},
   "outputs": [],
   "source": [
    "\n",
    "class LMSTrainer:\n",
    "    def __init__(self, x, y, taxa, limite, d0, d1):\n",
    "        self.__delta0 = d0       # hipotese constante\n",
    "        self.__delta1 = d1       # hipotese coeficiente angular\n",
    "        self.__x = x            # vetor dados\n",
    "        self.__y = y            # vetor gabarito\n",
    "        self.__m = len(y)       # quantidade de testes\n",
    "        self.__taxa = taxa      # taxa de aprendizado\n",
    "        self.__limite = limite  # limite do erro do criterio de parada\n",
    "        self.__it = 0           # iteracoes\n",
    "        self.__limitIt = 9999999# limite para as iteracoes\n",
    "    \n",
    "    def hipotese(self, x):\n",
    "        return self.__delta0 + self.__delta1*x\n",
    "\n",
    "    def __custo(self):\n",
    "        error = .0\n",
    "        for i, x in enumerate(self.__x):\n",
    "            error += (self.hipotese(x) - self.__y[i])**2\n",
    "        return error / (2.0*self.__m)\n",
    "\n",
    "    def __convergiu(self):\n",
    "        self.__it += 1\n",
    "        return self.__it == self.__limitIt or self.__custo() <= self.__limite\n",
    "    \n",
    "    def __errorSumDelta0(self):\n",
    "        sum = .0\n",
    "        for i, x in enumerate(self.__x):\n",
    "            sum += self.hipotese(x) - self.__y[i]\n",
    "        return sum\n",
    "    \n",
    "    def __errorSumDelta1(self):\n",
    "        sum = .0\n",
    "        for i, x in enumerate(self.__x):\n",
    "            sum += (self.hipotese(x) - self.__y[i]) * x\n",
    "        return sum\n",
    "    \n",
    "    def grad(self):\n",
    "        # self.__delta0 = delta0\n",
    "        # self.__delta1 = delta1\n",
    "        while not self.__convergiu():\n",
    "            temp0 = self.__delta0 - self.__taxa * (1.0/self.__m) * self.__errorSumDelta0()\n",
    "            temp1 = self.__delta1 - self.__taxa * (1.0/self.__m) * self.__errorSumDelta1()\n",
    "            self.__delta0 = temp0\n",
    "            self.__delta1 = temp1\n",
    "            # print(self.__delta0, self.__delta1)\n",
    "        \n",
    "        if self.__it == self.__limitIt:\n",
    "            print(\"ESTOUROU O LIMITE DE ITERACOES\")\n",
    "    \n",
    "    def getParams(self):\n",
    "        return self.__delta0, self.__delta1\n",
    "    "
   ]
  },
  {
   "cell_type": "code",
   "execution_count": 6,
   "metadata": {},
   "outputs": [],
   "source": [
    "class DrawingGraph:\n",
    "    \n",
    "    @staticmethod\n",
    "    def draw(x, f, title): # valores x e função f\n",
    "        plt.plot(x, f)\n",
    "        plt.title(title)\n",
    "        plt.show()\n",
    "        "
   ]
  },
  {
   "cell_type": "code",
   "execution_count": 14,
   "metadata": {},
   "outputs": [
    {
     "ename": "TypeError",
     "evalue": "__init__() takes 2 positional arguments but 7 were given",
     "output_type": "error",
     "traceback": [
      "\u001b[0;31m---------------------------------------------------------------------------\u001b[0m",
      "\u001b[0;31mTypeError\u001b[0m                                 Traceback (most recent call last)",
      "\u001b[0;32m<ipython-input-14-92b6967304d4>\u001b[0m in \u001b[0;36m<module>\u001b[0;34m()\u001b[0m\n\u001b[1;32m      8\u001b[0m \u001b[0md1\u001b[0m \u001b[0;34m=\u001b[0m \u001b[0;36m1.\u001b[0m\u001b[0;34m\u001b[0m\u001b[0m\n\u001b[1;32m      9\u001b[0m \u001b[0;34m\u001b[0m\u001b[0m\n\u001b[0;32m---> 10\u001b[0;31m \u001b[0mteste\u001b[0m \u001b[0;34m=\u001b[0m \u001b[0mlms\u001b[0m\u001b[0;34m.\u001b[0m\u001b[0mLMSTrainer\u001b[0m\u001b[0;34m(\u001b[0m\u001b[0mx_train\u001b[0m\u001b[0;34m,\u001b[0m \u001b[0my_train\u001b[0m\u001b[0;34m,\u001b[0m \u001b[0mtaxa\u001b[0m\u001b[0;34m,\u001b[0m \u001b[0merror\u001b[0m\u001b[0;34m,\u001b[0m \u001b[0md0\u001b[0m\u001b[0;34m,\u001b[0m \u001b[0md1\u001b[0m\u001b[0;34m)\u001b[0m\u001b[0;34m\u001b[0m\u001b[0m\n\u001b[0m\u001b[1;32m     11\u001b[0m \u001b[0;34m\u001b[0m\u001b[0m\n\u001b[1;32m     12\u001b[0m \u001b[0mDrawingGraph\u001b[0m\u001b[0;34m.\u001b[0m\u001b[0mdraw\u001b[0m\u001b[0;34m(\u001b[0m\u001b[0mx_train\u001b[0m\u001b[0;34m,\u001b[0m \u001b[0;34m[\u001b[0m\u001b[0mteste\u001b[0m\u001b[0;34m.\u001b[0m\u001b[0mhipotese\u001b[0m\u001b[0;34m(\u001b[0m\u001b[0mx\u001b[0m\u001b[0;34m)\u001b[0m \u001b[0;32mfor\u001b[0m \u001b[0mx\u001b[0m \u001b[0;32min\u001b[0m \u001b[0mx_train\u001b[0m\u001b[0;34m]\u001b[0m\u001b[0;34m,\u001b[0m \u001b[0;34m\"chute\"\u001b[0m\u001b[0;34m)\u001b[0m\u001b[0;34m\u001b[0m\u001b[0m\n",
      "\u001b[0;31mTypeError\u001b[0m: __init__() takes 2 positional arguments but 7 were given"
     ]
    }
   ],
   "source": [
    "import LMSTrainer as lms\n",
    "\n",
    "x_train = [1.,2.,3.]\n",
    "y_train = [2.,4.,6.]\n",
    "taxa = .1\n",
    "error = 0.0001\n",
    "d0 = 3.\n",
    "d1 = 1.\n",
    "\n",
    "teste = lms.LMSTrainer(x_train, y_train, taxa, error, d0, d1)\n",
    "\n",
    "DrawingGraph.draw(x_train, [teste.hipotese(x) for x in x_train], \"chute\")\n",
    "print(teste.getParams())\n",
    "\n",
    "teste.grad()\n",
    "\n",
    "DrawingGraph.draw(x_train, [teste.hipotese(x) for x in x_train], \"resultado\")\n",
    "print(teste.getParams())"
   ]
  },
  {
   "cell_type": "code",
   "execution_count": null,
   "metadata": {},
   "outputs": [],
   "source": []
  }
 ],
 "metadata": {
  "kernelspec": {
   "display_name": "Python 3",
   "language": "python",
   "name": "python3"
  },
  "language_info": {
   "codemirror_mode": {
    "name": "ipython",
    "version": 3
   },
   "file_extension": ".py",
   "mimetype": "text/x-python",
   "name": "python",
   "nbconvert_exporter": "python",
   "pygments_lexer": "ipython3",
   "version": "3.6.5"
  }
 },
 "nbformat": 4,
 "nbformat_minor": 2
}
