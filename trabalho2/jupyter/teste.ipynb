{
 "cells": [
  {
   "cell_type": "code",
   "execution_count": 76,
   "metadata": {},
   "outputs": [],
   "source": [
    "\n",
    "class LMStrainer:\n",
    "    def __init__(self, d0=0, d1=0, x=[], y=[], taxa=0, limite=0 ):\n",
    "        self.__delta0 = d0       # hipotese constante\n",
    "        self.__delta1 = d1       # hipotese coeficiente angular\n",
    "        self.__x = x            # vetor dados\n",
    "        self.__y = y            # vetor gabarito\n",
    "        self.__m = len(y)       # quantidade de testes\n",
    "        self.__taxa = taxa      # taxa de aprendizado\n",
    "        self.__limite = limite  # limite do erro do criterio de parada\n",
    "        self.__it = 0           # iteracoes\n",
    "        self.__limitIt = 9999999# limite para as iteracoes\n",
    "        self.__errorAtual = 0\n",
    "    \n",
    "    \n",
    "    def hipotese(self, x):\n",
    "        return self.__delta0 + self.__delta1*x\n",
    "\n",
    "    def __custo(self):\n",
    "        error = .0\n",
    "        for i, x in enumerate(self.__x):\n",
    "            error += (self.hipotese(x) - self.__y[i])**2\n",
    "        return error / (2.0*self.__m)\n",
    "\n",
    "    def __convergiu(self):\n",
    "        self.__it += 1\n",
    "        return self.__it == self.__limitIt or self.__custo() <= self.__limite\n",
    "        \n",
    "    \n",
    "    def __errorSumDelta0(self):\n",
    "        sum = .0\n",
    "        for i, x in enumerate(self.__x):\n",
    "            sum += self.hipotese(x) - self.__y[i]\n",
    "        return sum\n",
    "    \n",
    "    def __errorSumDelta1(self):\n",
    "        sum = .0\n",
    "        for i, x in enumerate(self.__x):\n",
    "            sum += (self.hipotese(x) - self.__y[i]) * x\n",
    "        return sum\n",
    "    \n",
    "    def grad(self):\n",
    "        # self.__delta0 = delta0\n",
    "        # self.__delta1 = delta1\n",
    "        while not self.__convergiu():\n",
    "            if self.__it%10000 == 0:\n",
    "                print('*', end=\"\")\n",
    "            temp0 = self.__delta0 - self.__taxa * (1.0/self.__m) * self.__errorSumDelta0()\n",
    "            temp1 = self.__delta1 - self.__taxa * (1.0/self.__m) * self.__errorSumDelta1()\n",
    "            self.__delta0 = temp0\n",
    "            self.__delta1 = temp1\n",
    "            # print(self.__delta0, self.__delta1)\n",
    "        \n",
    "        if self.__it == self.__limitIt:\n",
    "            print(\"ESTOUROU O LIMITE DE ITERACOES\")\n",
    "            print(\"Erro atual -> \", self.__custo())\n",
    "    \n",
    "    def getParams(self):\n",
    "        return self.__delta0, self.__delta1\n",
    "    "
   ]
  },
  {
   "cell_type": "code",
   "execution_count": 66,
   "metadata": {},
   "outputs": [],
   "source": [
    "import matplotlib.pyplot as plt"
   ]
  },
  {
   "cell_type": "code",
   "execution_count": 67,
   "metadata": {},
   "outputs": [],
   "source": [
    "class DrawingGraph:\n",
    "    \n",
    "    @staticmethod\n",
    "    def drawPoint(x, y):\n",
    "        plt.scatter(x, y, s=10, c='r' )\n",
    "    \n",
    "    @staticmethod\n",
    "    def draw(x, f, title): # valores x e função f\n",
    "        plt.plot(x, f)\n",
    "        plt.title(title)\n",
    "        plt.show()\n",
    "    \n",
    "    \n",
    "        "
   ]
  },
  {
   "cell_type": "code",
   "execution_count": 77,
   "metadata": {},
   "outputs": [
    {
     "data": {
      "image/png": "[encoded data removed]",
      "text/plain": [
       "<matplotlib.figure.Figure at 0x7fe8370d4550>"
      ]
     },
     "metadata": {},
     "output_type": "display_data"
    },
    {
     "name": "stdout",
     "output_type": "stream",
     "text": [
      "(3.0, -1.0)\n",
      "***************************************************************************************************************************************************************************************************************************************************************************************************************************************************************************************************************************************************************************************************************************************************************************************************************************************************************************************************************************************************************************************************************************************************************************************************************************************************************************************************************************************ESTOUROU O LIMITE DE ITERACOES\n",
      "Erro atual ->  0.11111111111111112\n"
     ]
    },
    {
     "data": {
      "image/png": "[encoded data removed]",
      "text/plain": [
       "<matplotlib.figure.Figure at 0x7fe86127bef0>"
      ]
     },
     "metadata": {},
     "output_type": "display_data"
    },
    {
     "name": "stdout",
     "output_type": "stream",
     "text": [
      "(-0.33333333333332965, 1.9999999999999982)\n"
     ]
    }
   ],
   "source": [
    "\n",
    "x_train = [1.,2.,3.]\n",
    "y_train = [2.,3.,6.]\n",
    "taxa = .1\n",
    "error = 1..323\n",
    "2.\n",
    "2\n",
    "d0 = 3.\n",
    "d1 = -1.\n",
    "\n",
    "teste = LMStrainer(d0, d1, x_train, y_train, taxa, error)\n",
    "\n",
    "DrawingGraph.drawPoint(x_train, y_train)\n",
    "DrawingGraph.draw(x_train, [teste.hipotese(x) for x in x_train], \"chute\")\n",
    "print(teste.getParams())\n",
    "\n",
    "teste.grad()\n",
    "\n",
    "DrawingGraph.drawPoint(x_train, y_train)\n",
    "DrawingGraph.draw(x_train, [teste.hipotese(x) for x in x_train], \"resultado\")\n",
    "print(teste.getParams())"
   ]
  },
  {
   "cell_type": "code",
   "execution_count": null,
   "metadata": {},
   "outputs": [],
   "source": []
  }
 ],
 "metadata": {
  "kernelspec": {
   "display_name": "Python 3",
   "language": "python",
   "name": "python3"
  },
  "language_info": {
   "codemirror_mode": {
    "name": "ipython",
    "version": 3
   },
   "file_extension": ".py",
   "mimetype": "text/x-python",
   "name": "python",
   "nbconvert_exporter": "python",
   "pygments_lexer": "ipython3",
   "version": "3.6.5"
  }
 },
 "nbformat": 4,
 "nbformat_minor": 2
}
