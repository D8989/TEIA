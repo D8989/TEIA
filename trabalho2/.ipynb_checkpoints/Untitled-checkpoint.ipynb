{
 "cells": [
  {
   "cell_type": "code",
   "execution_count": 3,
   "metadata": {},
   "outputs": [],
   "source": [
    "import numpy as np\n",
    "from sklearn.base import BaseEstimator"
   ]
  },
  {
   "cell_type": "code",
   "execution_count": null,
   "metadata": {},
   "outputs": [],
   "source": [
    "class LMSTrainer(BaseEstimator):\n",
    "    def __init__(self, analitic=False):\n",
    "        self.analitic = analitic\n",
    "        self.__trained = False\n",
    "    \n",
    "    def fit(self, X, y):\n",
    "        if self.analitic:\n",
    "            # por multiplicação de matries\n",
    "            pass\n",
    "        else:\n",
    "            # gradiente\n",
    "            pass\n",
    "    \n",
    "    def predict():\n",
    "        pass\n",
    "    \n",
    "    def _analitcForm(X ,y)\n",
    "        pass\n",
    "    \n",
    "    "
   ]
  },
  {
   "cell_type": "code",
   "execution_count": null,
   "metadata": {},
   "outputs": [],
   "source": []
  }
 ],
 "metadata": {
  "kernelspec": {
   "display_name": "Python 3",
   "language": "python",
   "name": "python3"
  },
  "language_info": {
   "codemirror_mode": {
    "name": "ipython",
    "version": 3
   },
   "file_extension": ".py",
   "mimetype": "text/x-python",
   "name": "python",
   "nbconvert_exporter": "python",
   "pygments_lexer": "ipython3",
   "version": "3.6.5"
  }
 },
 "nbformat": 4,
 "nbformat_minor": 2
}
